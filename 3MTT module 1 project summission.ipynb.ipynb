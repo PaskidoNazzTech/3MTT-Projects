{
 "cells": [
  {
   "cell_type": "markdown",
   "metadata": {
    "id": "aa0JGuffrplj"
   },
   "source": [
    "##👇Chelsea FC Quiz (Python)\n",
    "\n"
   ]
  },
  {
   "cell_type": "markdown",
   "metadata": {
    "id": "ieS02t-AmzEE"
   },
   "source": []
  },
  {
   "cell_type": "markdown",
   "metadata": {
    "id": "6DlACxVWeNh_"
   },
   "source": [
    "## Quiz Game:\n",
    "### A test of true fan knowledge of **Chelsea Football Club**"
   ]
  },
  {
   "cell_type": "code",
   "execution_count": null,
   "metadata": {
    "id": "uW9q8KEIeXeU"
   },
   "outputs": [],
   "source": [
    "chelsea_quiz = [{\"question\": \"What is the name of Chelsea FC's stadium?\",\n",
    "                 \"options\": [\"A. Old Trafford\", \"B. Stamford Bridge\", \"C. Wembley\", \"D. Emirates Stadium\"],\n",
    "                 \"answer\": \"B\"\n",
    "                 },\n",
    "                {\"question\": \"Who is Chelsea all-time top scorer?\",\n",
    "                 \"options\": [\"A. Didier Drogba\", \"B. Gianfranco Zola\", \"C. Frank Lampard\", \"D. Eden Hazard\"],\n",
    "                 \"answer\": \"C\"\n",
    "                 },\n",
    "                {\"question\": \"In what year did Chelsea win their first UEFA Champions League?\",\n",
    "                 \"options\": [\"A. 2008\", \"B. 2012\", \"C. 2015\", \"D. 2021\"],\n",
    "                 \"answer\": \"B\"\n",
    "                 },\n",
    "                {\"question\": \"Who was Chelsea's manager during the 2004-2005 Premier League win?\",\n",
    "                 \"options\": [\"A. Carlo Ancelotti\", \"B. Frank Lampard\", \"C. Jose Mourinho\", \"D. Avram Grant\"],\n",
    "                 \"answer\": \"C\"\n",
    "                 },\n",
    "                {\"question\": \"How many European trophy has Chelsea won as of 2025?\",\n",
    "                 \"options\": [\"A. 6\", \"B. 7\", \"C. 8\", \"D. 9\"],\n",
    "                 \"answer\": \"C\"\n",
    "                 }\n",
    "                  ]\n"
   ]
  },
  {
   "cell_type": "code",
   "execution_count": null,
   "metadata": {
    "colab": {
     "base_uri": "https://localhost:8080/"
    },
    "collapsed": true,
    "executionInfo": {
     "elapsed": 52177,
     "status": "ok",
     "timestamp": 1744471679223,
     "user": {
      "displayName": "Emmanuel Obiorah (PaskidoNazz)",
      "userId": "08924314271033094883"
     },
     "user_tz": -60
    },
    "id": "wS-H_qFJ-SQ3",
    "jupyter": {
     "outputs_hidden": true
    },
    "outputId": "4faadf79-262a-4429-ef08-a11c94afc24f"
   },
   "outputs": [
    {
     "name": "stdout",
     "output_type": "stream",
     "text": [
      "Chelsea FC Quiz (One question at a time)\n",
      "\n",
      "Q1: What is the name of Chelsea FC's stadium?\n",
      "A. Old Trafford\n",
      "B. Stamford Bridge\n",
      "C. Wembley\n",
      "D. Emirates Stadium\n",
      "Your answer (A/B/C/D): b\n",
      "Correct!\n",
      "\n",
      "Q2: Who is Chelsea all-time top scorer?\n",
      "A. Didier Drogba\n",
      "B. Gianfranco Zola\n",
      "C. Frank Lampard\n",
      "D. Eden Hazard\n",
      "Your answer (A/B/C/D): c\n",
      "Correct!\n",
      "\n",
      "Q3: In what year did Chelsea win their first UEFA Champions League?\n",
      "A. 2008\n",
      "B. 2012\n",
      "C. 2015\n",
      "D. 2021\n",
      "Your answer (A/B/C/D): b\n",
      "Correct!\n",
      "\n",
      "Q4: Who was Chelsea's manager during the 2004-2005 Premier League win?\n",
      "A. Carlo Ancelotti\n",
      "B. Frank Lampard\n",
      "C. Jose Mourinho\n",
      "D. Avram Grant\n",
      "Your answer (A/B/C/D): c\n",
      "Correct!\n",
      "\n",
      "Q5: How many European trophy has Chelsea won as of 2025?\n",
      "A. 6\n",
      "B. 7\n",
      "C. 8\n",
      "D. 9\n",
      "Your answer (A/B/C/D): c\n",
      "Correct!\n",
      "\n",
      "Quiz Completed!\n",
      "Your final score is: 5 out of 5\n",
      "Percentage Score: 100.00%\n",
      "Excellent! You're a Chelsea FC expert.\n"
     ]
    }
   ],
   "source": [
    "score = 0\n",
    "print(\"Chelsea FC Quiz (One question at a time)\\n\")\n",
    "\n",
    "# Ask each question one by one\n",
    "for index, q in enumerate(chelsea_quiz, start=1):\n",
    "    print(f\"Q{index}: {q['question']}\")\n",
    "    for option in q[\"options\"]:\n",
    "        print(option)\n",
    "\n",
    "    user_answer = input(\"Your answer (A/B/C/D): \").strip().upper()\n",
    "\n",
    "\n",
    "    # Validate input\n",
    "    while user_answer not in [\"A\", \"B\", \"C\", \"D\"]:\n",
    "        print(\"Invalid input. Please enter only A, B, C, or D.\")\n",
    "        user_answer = input(\"Try again (A/B/C/D): \").strip().upper()\n",
    "\n",
    "    # Check answer\n",
    "    correct = q[\"answer\"]\n",
    "    if user_answer == correct:\n",
    "        print(\"Correct!\\n\")\n",
    "        score += 1\n",
    "\n",
    "    else:\n",
    "        correct_text = q[\"options\"][ord(correct) - ord('A')]\n",
    "        print(f\"Wrong! The correct answer is {correct} - {correct_text}\\n\")\n",
    "\n",
    "# Final results\n",
    "print(\"Quiz Completed!\")\n",
    "print(f\"Your final score is: {score} out of {len(chelsea_quiz)}\")\n",
    "percentage = (score / len(chelsea_quiz)) * 100\n",
    "print(f\"Percentage Score: {percentage:.2f}%\")\n",
    "\n",
    "# Optional feedback\n",
    "if score == 5:\n",
    "    print(\"Excellent! You're a Chelsea FC expert.\")\n",
    "elif score >= 3:\n",
    "    print(\"Good effort! You know your club well.\")\n",
    "else:\n",
    "    print(\"You might need to revise Chelsea FC's history.\")\n"
   ]
  },
  {
   "cell_type": "markdown",
   "metadata": {
    "id": "bTK6h1ZLoQ9_"
   },
   "source": [
    "# ***Title: Number Swapping with Tuple Unpacking***\n",
    "# Module 1 project\n"
   ]
  },
  {
   "cell_type": "code",
   "execution_count": 1,
   "metadata": {
    "colab": {
     "base_uri": "https://localhost:8080/"
    },
    "collapsed": true,
    "executionInfo": {
     "elapsed": 112123,
     "status": "ok",
     "timestamp": 1744699212447,
     "user": {
      "displayName": "Emmanuel Obiorah (PaskidoNazz)",
      "userId": "08924314271033094883"
     },
     "user_tz": -60
    },
    "id": "rBAAFX8gnjYX",
    "jupyter": {
     "outputs_hidden": true
    },
    "outputId": "6d701449-3a18-4bb4-c6fa-4183b9837e9b"
   },
   "outputs": [
    {
     "name": "stdout",
     "output_type": "stream",
     "text": [
      "Number Swapping Program\n",
      "\n",
      "Enter the first number: 5\n",
      "Enter the second number: 7.7\n",
      "\n",
      "Before Swapping:\n",
      "First number = 5.0\n",
      "Second number = 7.7\n",
      "\n",
      "After Swapping:\n",
      "First number = 7.7\n",
      "Second number = 5.0\n"
     ]
    }
   ],
   "source": [
    "# Title:\n",
    "print(\"Number Swapping Program\\n\")\n",
    "\n",
    "try:\n",
    "    # Accept two numbers from the user\n",
    "    num1 = float(input(\"Enter the first number: \"))\n",
    "    num2 = float(input(\"Enter the second number: \"))\n",
    "\n",
    "    # Display before swapping\n",
    "    print(f\"\\nBefore Swapping:\")\n",
    "    print(f\"First number = {num1}\")\n",
    "    print(f\"Second number = {num2}\")\n",
    "\n",
    "    # Swap using tuple unpacking\n",
    "    num1, num2 = num2, num1\n",
    "\n",
    "    # Display after swapping\n",
    "    print(f\"\\nAfter Swapping:\")\n",
    "    print(f\"First number = {num1}\")\n",
    "    print(f\"Second number = {num2}\")\n",
    "\n",
    "except ValueError:\n",
    "    print(\"\\nError: Please enter valid numeric values only.\")\n"
   ]
  },
  {
   "cell_type": "markdown",
   "metadata": {
    "id": "dwjRhLROZJfr"
   },
   "source": [
    "# ***Title: Prime, Armstrong, and Palindrone Identifier***\n",
    "\n",
    "## Module 1 project\n",
    "\n"
   ]
  },
  {
   "cell_type": "code",
   "execution_count": 4,
   "metadata": {
    "colab": {
     "base_uri": "https://localhost:8080/"
    },
    "executionInfo": {
     "elapsed": 5145,
     "status": "ok",
     "timestamp": 1744699340201,
     "user": {
      "displayName": "Emmanuel Obiorah (PaskidoNazz)",
      "userId": "08924314271033094883"
     },
     "user_tz": -60
    },
    "id": "ujIo6eZWLWJl",
    "outputId": "471b68ba-32be-4a78-be70-4b6c0771e625"
   },
   "outputs": [
    {
     "name": "stdout",
     "output_type": "stream",
     "text": [
      "Check if a number is Prime, Armstrong, or Palindrome\n",
      "\n",
      "Enter an integer: 7.7\n",
      "\n",
      "Error: Please enter a valid integer.\n"
     ]
    }
   ],
   "source": [
    "# Title: Prime, Armstrong, and Palindrome Identifier\n",
    "\n",
    "print(\"Check if a number is Prime, Armstrong, or Palindrome\\n\")\n",
    "\n",
    "try:\n",
    "    # Accept input\n",
    "    num = int(input(\"Enter an integer: \"))\n",
    "\n",
    "    # Store original number for use in multiple checks\n",
    "    original = num\n",
    "\n",
    "    # ---------- Prime Check ----------\n",
    "    is_prime = True\n",
    "    if num < 2:\n",
    "        is_prime = False\n",
    "    else:\n",
    "        for i in range(2, int(num ** 0.5) + 1):\n",
    "            if num % i == 0:\n",
    "                is_prime = False\n",
    "                break\n",
    "\n",
    "    # ---------- Armstrong Check ----------\n",
    "    digits = [int(d) for d in str(num)]\n",
    "    armstrong_sum = sum([d ** len(digits) for d in digits])\n",
    "    is_armstrong = (armstrong_sum == num)\n",
    "\n",
    "    # ---------- Palindrome Check ----------\n",
    "    is_palindrome = str(num) == str(num)[::-1]\n",
    "\n",
    "    # ---------- Output ----------\n",
    "    print(\"\\nResults:\")\n",
    "    if is_prime:\n",
    "        print(\"- It is a Prime number.\")\n",
    "    if is_armstrong:\n",
    "        print(\"- It is an Armstrong number.\")\n",
    "    if is_palindrome:\n",
    "        print(\"- It is a Palindrome number.\")\n",
    "\n",
    "    if not (is_prime or is_armstrong or is_palindrome):\n",
    "        print(\"- It does not meet any of the three conditions.\")\n",
    "\n",
    "except ValueError:\n",
    "    print(\"\\nError: Please enter a valid integer.\")\n"
   ]
  },
  {
   "cell_type": "markdown",
   "metadata": {
    "id": "kz-rXVqXYGI3"
   },
   "source": [
    "# *Title: Fibonacci Sequence Generator*\n",
    "\n",
    "## Module 1 Project\n",
    "\n"
   ]
  },
  {
   "cell_type": "markdown",
   "metadata": {
    "id": "6JZwlMWDoESs"
   },
   "source": [
    "*italicized text*"
   ]
  },
  {
   "cell_type": "code",
   "execution_count": 25,
   "metadata": {
    "colab": {
     "base_uri": "https://localhost:8080/"
    },
    "executionInfo": {
     "elapsed": 5430,
     "status": "ok",
     "timestamp": 1744702823394,
     "user": {
      "displayName": "Emmanuel Obiorah (PaskidoNazz)",
      "userId": "08924314271033094883"
     },
     "user_tz": -60
    },
    "id": "9mHVESheSI-w",
    "outputId": "5bcedd82-35c5-4eac-fc58-9f4bbe0ce133"
   },
   "outputs": [
    {
     "name": "stdout",
     "output_type": "stream",
     "text": [
      "Fibonacci Sequence Generator\n",
      "\n",
      "Enter the number of Fibonacci terms to generate: 10\n",
      "\n",
      "First 10 terms of the Fibonacci sequence:\n",
      "[0, 1, 1, 2, 3, 5, 8, 13, 21, 34]\n"
     ]
    }
   ],
   "source": [
    "def generate_fibonacci(n):\n",
    "    \"\"\"\n",
    "    Generate the first n terms of the Fibonacci sequence iteratively.\n",
    "    \"\"\"\n",
    "    sequence = []\n",
    "    a, b = 0, 1\n",
    "    for _ in range(n):\n",
    "        sequence.append(a)\n",
    "        a, b = b, a + b\n",
    "    return sequence\n",
    "\n",
    "def main():\n",
    "    print(\"Fibonacci Sequence Generator\\n\")\n",
    "    try:\n",
    "        user_input = input(\"Enter the number of Fibonacci terms to generate: \")\n",
    "        n = int(user_input)\n",
    "\n",
    "        if n <= 0:\n",
    "            print(\"Error: Please enter a positive integer greater than 0.\")\n",
    "        else:\n",
    "            fibonacci_sequence = generate_fibonacci(n)\n",
    "            print(f\"\\nFirst {n} terms of the Fibonacci sequence:\")\n",
    "            print(fibonacci_sequence)\n",
    "\n",
    "    except ValueError:\n",
    "        print(\"Error: Invalid input. Please enter a valid positive integer.\")\n",
    "\n",
    "if __name__ == \"__main__\":\n",
    "    main()\n"
   ]
  }
 ],
 "metadata": {
  "colab": {
   "authorship_tag": "ABX9TyOT+5yihle+EZ1NqNFS4YO0",
   "provenance": []
  },
  "kernelspec": {
   "display_name": "Python [conda env:base] *",
   "language": "python",
   "name": "conda-base-py"
  },
  "language_info": {
   "codemirror_mode": {
    "name": "ipython",
    "version": 3
   },
   "file_extension": ".py",
   "mimetype": "text/x-python",
   "name": "python",
   "nbconvert_exporter": "python",
   "pygments_lexer": "ipython3",
   "version": "3.12.7"
  }
 },
 "nbformat": 4,
 "nbformat_minor": 4
}
